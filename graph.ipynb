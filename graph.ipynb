{
 "cells": [
  {
   "cell_type": "code",
   "execution_count": 36,
   "metadata": {
    "collapsed": true
   },
   "outputs": [
    {
     "data": {
      "text/plain": "<Figure size 432x288 with 1 Axes>",
      "image/png": "[encoded data removed]"
     },
     "metadata": {},
     "output_type": "display_data"
    }
   ],
   "source": [
    "import matplotlib.pyplot as plt\n",
    "from matplotlib.markers import MarkerStyle\n",
    "\n",
    "equal_gain = 7.95\n",
    "\n",
    "x = [0, 3.78, 13.63]\n",
    "y = [16.15, 13.78, 0]\n",
    "\n",
    "rex = [4.37, 12.96]\n",
    "\n",
    "x_max = max(x) / 9 * 10\n",
    "y_max = max(y) / 9 * 10\n",
    "\n",
    "actor_x = 'USA'\n",
    "actor_y = 'China'\n",
    "\n",
    "line_max = max(x_max, y_max)\n",
    "\n",
    "# plt.style.use('science')\n",
    "\n",
    "fig, ax = plt.subplots(facecolor='w')\n",
    "ax.plot([0, line_max], [0, line_max], color='silver', linewidth=1)\n",
    "ax.plot(x, y, color='black', linewidth=1)\n",
    "\n",
    "\n",
    "# tick for the upper of Y\n",
    "t = MarkerStyle(marker='|')\n",
    "t._transform = t.get_transform().rotate_deg(155)\n",
    "ax.plot([2.7], [14.4], marker=t, markersize=10, color='black')\n",
    "\n",
    "# ticker for the lower of X\n",
    "t2 = MarkerStyle(marker='|')\n",
    "t2._transform = t.get_transform().rotate_deg(155)\n",
    "ax.plot([12.724], [1.35], marker=t2, markersize=10, color='black')\n",
    "\n",
    "ax.plot([rex[0]], [rex[1]], marker=(8, 2, 0), color='black', markersize=10)\n",
    "ax.annotate(f\"({rex[0]}, {rex[1]})\", [rex[0]+0.5, rex[1]+0.5])\n",
    "\n",
    "ax.set_xticks([x[-1], rex[0]])\n",
    "ax.set_xticklabels([x[-1], 'x'])\n",
    "ax.set_yticks([rex[1], y[0]])\n",
    "ax.set_yticklabels(['y', y[0]])\n",
    "\n",
    "plt.xlim(0, max(x_max, y_max))\n",
    "plt.ylim(0, max(y_max, x_max))\n",
    "\n",
    "ax.set_aspect('equal', adjustable='box')\n",
    "\n",
    "plt.savefig('graph.svg', format=\"svg\")\n",
    "plt.savefig('graph.png', format=\"png\")\n",
    "plt.show()"
   ]
  }
 ],
 "metadata": {
  "kernelspec": {
   "display_name": "Python 3",
   "language": "python",
   "name": "python3"
  },
  "language_info": {
   "codemirror_mode": {
    "name": "ipython",
    "version": 2
   },
   "file_extension": ".py",
   "mimetype": "text/x-python",
   "name": "python",
   "nbconvert_exporter": "python",
   "pygments_lexer": "ipython2",
   "version": "2.7.6"
  }
 },
 "nbformat": 4,
 "nbformat_minor": 0
}
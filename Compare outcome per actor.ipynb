{
 "cells": [
  {
   "cell_type": "markdown",
   "metadata": {},
   "source": [
    "# Sheet\n",
    "Deze sheet geeft een overzicht van uitkomsten van de verschillende p waardes voor één enkele actor"
   ]
  },
  {
   "cell_type": "code",
   "execution_count": 1,
   "metadata": {},
   "outputs": [],
   "source": [
    "import numpy as np\n",
    "import pandas as pd\n",
    "import matplotlib.pyplot as plt\n",
    "import sqlite3\n",
    "import ipywidgets as widget\n",
    "%matplotlib inline"
   ]
  },
  {
   "cell_type": "code",
   "execution_count": 2,
   "metadata": {},
   "outputs": [],
   "source": [
    "conn = sqlite3.connect('data/database.db')"
   ]
  },
  {
   "cell_type": "code",
   "execution_count": 3,
   "metadata": {},
   "outputs": [
    {
     "data": {
      "application/vnd.jupyter.widget-view+json": {
       "model_id": "cc5904b6c2734bb888b353a54208ffbc",
       "version_major": 2,
       "version_minor": 0
      },
      "text/html": [
       "<p>Failed to display Jupyter Widget of type <code>Dropdown</code>.</p>\n",
       "<p>\n",
       "  If you're reading this message in the Jupyter Notebook or JupyterLab Notebook, it may mean\n",
       "  that the widgets JavaScript is still loading. If this message persists, it\n",
       "  likely means that the widgets JavaScript library is either not installed or\n",
       "  not enabled. See the <a href=\"https://ipywidgets.readthedocs.io/en/stable/user_install.html\">Jupyter\n",
       "  Widgets Documentation</a> for setup instructions.\n",
       "</p>\n",
       "<p>\n",
       "  If you're reading this message in another frontend (for example, a static\n",
       "  rendering on GitHub or <a href=\"https://nbviewer.jupyter.org/\">NBViewer</a>),\n",
       "  it may mean that your frontend doesn't currently support widgets.\n",
       "</p>\n"
      ],
      "text/plain": [
       "Dropdown(description='Select dataset:', options={'kopenhagen': 1}, value=1)"
      ]
     },
     "metadata": {},
     "output_type": "display_data"
    }
   ],
   "source": [
    "c = conn.cursor()\n",
    "cursor = c.execute('SELECT dataset.name, dataset.id FROM dataset ORDER BY dataset.name')\n",
    "dataset_dropdown = widget.Dropdown(\n",
    "    options=dict(cursor.fetchall()),\n",
    "    description='Select dataset:',\n",
    "    disabled=False    \n",
    ")\n",
    "\n",
    "dataset_dropdown"
   ]
  },
  {
   "cell_type": "code",
   "execution_count": 6,
   "metadata": {},
   "outputs": [
    {
     "data": {
      "application/vnd.jupyter.widget-view+json": {
       "model_id": "9fb4e26c27de4771acafd76ec9bde639",
       "version_major": 2,
       "version_minor": 0
      },
      "text/html": [
       "<p>Failed to display Jupyter Widget of type <code>Dropdown</code>.</p>\n",
       "<p>\n",
       "  If you're reading this message in the Jupyter Notebook or JupyterLab Notebook, it may mean\n",
       "  that the widgets JavaScript is still loading. If this message persists, it\n",
       "  likely means that the widgets JavaScript library is either not installed or\n",
       "  not enabled. See the <a href=\"https://ipywidgets.readthedocs.io/en/stable/user_install.html\">Jupyter\n",
       "  Widgets Documentation</a> for setup instructions.\n",
       "</p>\n",
       "<p>\n",
       "  If you're reading this message in another frontend (for example, a static\n",
       "  rendering on GitHub or <a href=\"https://nbviewer.jupyter.org/\">NBViewer</a>),\n",
       "  it may mean that your frontend doesn't currently support widgets.\n",
       "</p>\n"
      ],
      "text/plain": [
       "Dropdown(description='Select dataset:', options={'allianceofsmallislandstates': 11, 'australia': 3, 'brazil': 8, 'canada': 4, 'chinaindia': 7, 'developingcountries': 10, 'euinclnorway': 2, 'japan': 5, 'leastdevelopedcountries': 9, 'russia': 6, 'usa': 1}, value=11)"
      ]
     },
     "metadata": {},
     "output_type": "display_data"
    }
   ],
   "source": [
    "c = conn.cursor()\n",
    "cursor = c.execute('SELECT a.name, a.id FROM actor a WHERE a.data_set_id = ? ORDER BY a.name ', (dataset_dropdown.value,))\n",
    "actor_dropdown = widget.Dropdown(\n",
    "    options=dict(cursor.fetchall()),\n",
    "    description='Select dataset:',\n",
    "    disabled=False    \n",
    ")\n",
    "\n",
    "actor_dropdown"
   ]
  },
  {
   "cell_type": "code",
   "execution_count": 8,
   "metadata": {},
   "outputs": [
    {
     "data": {
      "text/html": [
       "<div>\n",
       "<style scoped>\n",
       "    .dataframe tbody tr th:only-of-type {\n",
       "        vertical-align: middle;\n",
       "    }\n",
       "\n",
       "    .dataframe tbody tr th {\n",
       "        vertical-align: top;\n",
       "    }\n",
       "\n",
       "    .dataframe thead tr th {\n",
       "        text-align: left;\n",
       "    }\n",
       "\n",
       "    .dataframe thead tr:last-of-type th {\n",
       "        text-align: right;\n",
       "    }\n",
       "</style>\n",
       "<table border=\"1\" class=\"dataframe\">\n",
       "  <thead>\n",
       "    <tr>\n",
       "      <th></th>\n",
       "      <th></th>\n",
       "      <th colspan=\"10\" halign=\"left\">avg_std</th>\n",
       "    </tr>\n",
       "    <tr>\n",
       "      <th></th>\n",
       "      <th></th>\n",
       "      <th colspan=\"10\" halign=\"left\">position</th>\n",
       "    </tr>\n",
       "    <tr>\n",
       "      <th></th>\n",
       "      <th>iteration</th>\n",
       "      <th>0</th>\n",
       "      <th>1</th>\n",
       "      <th>2</th>\n",
       "      <th>3</th>\n",
       "      <th>4</th>\n",
       "      <th>5</th>\n",
       "      <th>6</th>\n",
       "      <th>7</th>\n",
       "      <th>8</th>\n",
       "      <th>9</th>\n",
       "    </tr>\n",
       "    <tr>\n",
       "      <th>issue</th>\n",
       "      <th>p</th>\n",
       "      <th></th>\n",
       "      <th></th>\n",
       "      <th></th>\n",
       "      <th></th>\n",
       "      <th></th>\n",
       "      <th></th>\n",
       "      <th></th>\n",
       "      <th></th>\n",
       "      <th></th>\n",
       "      <th></th>\n",
       "    </tr>\n",
       "  </thead>\n",
       "  <tbody>\n",
       "    <tr>\n",
       "      <th>Commitments</th>\n",
       "      <th>0</th>\n",
       "      <td>12.5 (0.0)</td>\n",
       "      <td>49.25 (0.0)</td>\n",
       "      <td>28.57 (0.0)</td>\n",
       "      <td>47.21 (0.74166)</td>\n",
       "      <td>27.51 (0.43113)</td>\n",
       "      <td>17.11 (4.72628)</td>\n",
       "      <td>31.78 (1.86331)</td>\n",
       "      <td>18.76 (1.08097)</td>\n",
       "      <td>13.86 (6.04054)</td>\n",
       "      <td>23.35 (4.63791)</td>\n",
       "    </tr>\n",
       "    <tr>\n",
       "      <th>Control</th>\n",
       "      <th>0</th>\n",
       "      <td>50.0 (0.0)</td>\n",
       "      <td>51.13 (0.0)</td>\n",
       "      <td>52.04 (0.0)</td>\n",
       "      <td>52.76 (0.0)</td>\n",
       "      <td>53.29 (0.06208)</td>\n",
       "      <td>53.29 (0.06296)</td>\n",
       "      <td>53.29 (0.06296)</td>\n",
       "      <td>56.05 (2.55602)</td>\n",
       "      <td>59.22 (2.76286)</td>\n",
       "      <td>61.79 (3.11162)</td>\n",
       "    </tr>\n",
       "    <tr>\n",
       "      <th>DevlopC2020</th>\n",
       "      <th>0</th>\n",
       "      <td>66.67 (0.0)</td>\n",
       "      <td>66.46 (0.0)</td>\n",
       "      <td>66.46 (0.0)</td>\n",
       "      <td>66.14 (0.0)</td>\n",
       "      <td>66.14 (0.0)</td>\n",
       "      <td>65.77 (0.00103)</td>\n",
       "      <td>65.71 (0.1908)</td>\n",
       "      <td>65.69 (0.22957)</td>\n",
       "      <td>65.69 (0.22957)</td>\n",
       "      <td>65.69 (0.22957)</td>\n",
       "    </tr>\n",
       "    <tr>\n",
       "      <th>Domestred</th>\n",
       "      <th>0</th>\n",
       "      <td>62.5 (0.0)</td>\n",
       "      <td>62.5 (0.0)</td>\n",
       "      <td>62.46 (0.0)</td>\n",
       "      <td>62.13 (0.0)</td>\n",
       "      <td>61.48 (0.0)</td>\n",
       "      <td>60.85 (0.21091)</td>\n",
       "      <td>59.88 (0.55819)</td>\n",
       "      <td>56.31 (1.00716)</td>\n",
       "      <td>54.99 (1.00257)</td>\n",
       "      <td>54.22 (1.67646)</td>\n",
       "    </tr>\n",
       "    <tr>\n",
       "      <th>Extra</th>\n",
       "      <th>0</th>\n",
       "      <td>44.44 (0.0)</td>\n",
       "      <td>63.33 (0.0)</td>\n",
       "      <td>75.8 (0.0)</td>\n",
       "      <td>84.03 (0.0)</td>\n",
       "      <td>80.24 (0.56397)</td>\n",
       "      <td>86.96 (0.37222)</td>\n",
       "      <td>91.14 (1.26191)</td>\n",
       "      <td>87.11 (0.52249)</td>\n",
       "      <td>91.44 (0.35808)</td>\n",
       "      <td>94.04 (0.97702)</td>\n",
       "    </tr>\n",
       "    <tr>\n",
       "      <th>MRVdecrease</th>\n",
       "      <th>0</th>\n",
       "      <td>75.0 (0.0)</td>\n",
       "      <td>52.5 (0.0)</td>\n",
       "      <td>36.75 (0.0)</td>\n",
       "      <td>55.26 (0.2891)</td>\n",
       "      <td>38.76 (0.20565)</td>\n",
       "      <td>54.83 (1.3914)</td>\n",
       "      <td>38.52 (0.96983)</td>\n",
       "      <td>51.94 (5.11332)</td>\n",
       "      <td>41.99 (6.85649)</td>\n",
       "      <td>47.68 (5.63567)</td>\n",
       "    </tr>\n",
       "    <tr>\n",
       "      <th>Newtreaty</th>\n",
       "      <th>0</th>\n",
       "      <td>44.44 (0.0)</td>\n",
       "      <td>63.33 (0.0)</td>\n",
       "      <td>42.36 (0.4448)</td>\n",
       "      <td>61.65 (0.29357)</td>\n",
       "      <td>42.09 (0.86666)</td>\n",
       "      <td>61.35 (0.57533)</td>\n",
       "      <td>43.96 (4.02794)</td>\n",
       "      <td>58.92 (7.38628)</td>\n",
       "      <td>48.46 (6.49682)</td>\n",
       "      <td>52.8 (10.88498)</td>\n",
       "    </tr>\n",
       "  </tbody>\n",
       "</table>\n",
       "</div>"
      ],
      "text/plain": [
       "                   avg_std                                                \\\n",
       "                  position                                                 \n",
       "iteration                0            1               2                3   \n",
       "issue       p                                                              \n",
       "Commitments 0   12.5 (0.0)  49.25 (0.0)     28.57 (0.0)  47.21 (0.74166)   \n",
       "Control     0   50.0 (0.0)  51.13 (0.0)     52.04 (0.0)      52.76 (0.0)   \n",
       "DevlopC2020 0  66.67 (0.0)  66.46 (0.0)     66.46 (0.0)      66.14 (0.0)   \n",
       "Domestred   0   62.5 (0.0)   62.5 (0.0)     62.46 (0.0)      62.13 (0.0)   \n",
       "Extra       0  44.44 (0.0)  63.33 (0.0)      75.8 (0.0)      84.03 (0.0)   \n",
       "MRVdecrease 0   75.0 (0.0)   52.5 (0.0)     36.75 (0.0)   55.26 (0.2891)   \n",
       "Newtreaty   0  44.44 (0.0)  63.33 (0.0)  42.36 (0.4448)  61.65 (0.29357)   \n",
       "\n",
       "                                                                  \\\n",
       "                                                                   \n",
       "iteration                    4                5                6   \n",
       "issue       p                                                      \n",
       "Commitments 0  27.51 (0.43113)  17.11 (4.72628)  31.78 (1.86331)   \n",
       "Control     0  53.29 (0.06208)  53.29 (0.06296)  53.29 (0.06296)   \n",
       "DevlopC2020 0      66.14 (0.0)  65.77 (0.00103)   65.71 (0.1908)   \n",
       "Domestred   0      61.48 (0.0)  60.85 (0.21091)  59.88 (0.55819)   \n",
       "Extra       0  80.24 (0.56397)  86.96 (0.37222)  91.14 (1.26191)   \n",
       "MRVdecrease 0  38.76 (0.20565)   54.83 (1.3914)  38.52 (0.96983)   \n",
       "Newtreaty   0  42.09 (0.86666)  61.35 (0.57533)  43.96 (4.02794)   \n",
       "\n",
       "                                                                  \n",
       "                                                                  \n",
       "iteration                    7                8                9  \n",
       "issue       p                                                     \n",
       "Commitments 0  18.76 (1.08097)  13.86 (6.04054)  23.35 (4.63791)  \n",
       "Control     0  56.05 (2.55602)  59.22 (2.76286)  61.79 (3.11162)  \n",
       "DevlopC2020 0  65.69 (0.22957)  65.69 (0.22957)  65.69 (0.22957)  \n",
       "Domestred   0  56.31 (1.00716)  54.99 (1.00257)  54.22 (1.67646)  \n",
       "Extra       0  87.11 (0.52249)  91.44 (0.35808)  94.04 (0.97702)  \n",
       "MRVdecrease 0  51.94 (5.11332)  41.99 (6.85649)  47.68 (5.63567)  \n",
       "Newtreaty   0  58.92 (7.38628)  48.46 (6.49682)  52.8 (10.88498)  "
      ]
     },
     "execution_count": 8,
     "metadata": {},
     "output_type": "execute_result"
    }
   ],
   "source": [
    "df = pd.read_sql(\"\"\"\n",
    "SELECT\n",
    "  ai.position,\n",
    "  i.name     AS issue,\n",
    "  i2.pointer AS iteration,\n",
    "  m.p\n",
    "FROM actorissue ai\n",
    "  LEFT JOIN actor a ON ai.actor_id = a.id\n",
    "  LEFT JOIN issue i ON ai.issue_id = i.id\n",
    "  LEFT JOIN iteration i2 ON ai.iteration_id = i2.id\n",
    "  LEFT JOIN repetition r ON i2.repetition_id = r.id\n",
    "  LEFT JOIN modelrun m ON r.model_run_id = m.id\n",
    "WHERE ai.type = 'before' AND a.id = ?;\n",
    "\"\"\", \n",
    "                 conn, \n",
    "                 params=(actor_dropdown.value,),\n",
    "                 index_col='p',                  \n",
    "                 columns=['position']\n",
    "                )\n",
    "\n",
    "def avg_std(series):\n",
    "    avg = np.average(series)\n",
    "    std = np.std(series)\n",
    "    \n",
    "    return '{0} ({1})'.format(round(avg, 2), round(std, 5)) \n",
    "\n",
    "table = pd.pivot_table(df, index=['issue','p'], columns=['iteration'],aggfunc=[avg_std])\n",
    "table"
   ]
  },
  {
   "cell_type": "code",
   "execution_count": null,
   "metadata": {},
   "outputs": [],
   "source": []
  },
  {
   "cell_type": "code",
   "execution_count": null,
   "metadata": {},
   "outputs": [],
   "source": []
  }
 ],
 "metadata": {
  "kernelspec": {
   "display_name": "Python 3",
   "language": "python",
   "name": "python3"
  },
  "language_info": {
   "codemirror_mode": {
    "name": "ipython",
    "version": 3
   },
   "file_extension": ".py",
   "mimetype": "text/x-python",
   "name": "python",
   "nbconvert_exporter": "python",
   "pygments_lexer": "ipython3",
   "version": "3.6.3"
  },
  "widgets": {
   "application/vnd.jupyter.widget-state+json": {
    "state": {
     "0106c8e19d714070add39ce8c6d73b83": {
      "model_module": "@jupyter-widgets/controls",
      "model_module_version": "1.0.0",
      "model_name": "DescriptionStyleModel",
      "state": {
       "_model_module_version": "1.0.0",
       "description_width": ""
      }
     },
     "05ffd955194744c0931e197349bda24f": {
      "model_module": "@jupyter-widgets/controls",
      "model_module_version": "1.0.0",
      "model_name": "DropdownModel",
      "state": {
       "_model_module_version": "1.0.0",
       "_options_labels": [
        "sample_data"
       ],
       "_view_module_version": "1.0.0",
       "description": "Select issue to analyze:",
       "index": 0,
       "layout": "IPY_MODEL_da298dc1df5e4f37b66ee3ccc5207925",
       "style": "IPY_MODEL_55e5ac3ffc044f14ba3b84c02cc8871b"
      }
     },
     "0690aa319f674bcebabbe7fd26745c8c": {
      "model_module": "@jupyter-widgets/controls",
      "model_module_version": "1.0.0",
      "model_name": "DropdownModel",
      "state": {
       "_model_module_version": "1.0.0",
       "_options_labels": [
        "sample_data"
       ],
       "_view_module_version": "1.0.0",
       "description": "Select issue to analyze:",
       "index": 0,
       "layout": "IPY_MODEL_124abcde0a444e8a9f518d82f8273c79",
       "style": "IPY_MODEL_7ab7143893ed413ca5d3f8c49749a7aa"
      }
     },
     "078b1bc0862e440ebee776e7cc6f2ca1": {
      "model_module": "@jupyter-widgets/controls",
      "model_module_version": "1.0.0",
      "model_name": "DropdownModel",
      "state": {
       "_model_module_version": "1.0.0",
       "_view_module_version": "1.0.0",
       "description": "Select issue to analyze:",
       "index": null,
       "layout": "IPY_MODEL_aaa070ab3e4b43e3bb8ad5c819cac38c",
       "style": "IPY_MODEL_3d50bc3e39fc434db6c260e86da08c41"
      }
     },
     "0a2cc3cab12d48db8c1c17e93e60995c": {
      "model_module": "@jupyter-widgets/base",
      "model_module_version": "1.0.0",
      "model_name": "LayoutModel",
      "state": {}
     },
     "0ab57299fd0f43ada8a7a252e70a5edf": {
      "model_module": "@jupyter-widgets/controls",
      "model_module_version": "1.0.0",
      "model_name": "DescriptionStyleModel",
      "state": {
       "_model_module_version": "1.0.0",
       "description_width": ""
      }
     },
     "0ca6d24c7b6a4b6ea0edf957368b0663": {
      "model_module": "@jupyter-widgets/base",
      "model_module_version": "1.0.0",
      "model_name": "LayoutModel",
      "state": {}
     },
     "0d987e90ff7c49898248c93fe4517bad": {
      "model_module": "@jupyter-widgets/controls",
      "model_module_version": "1.0.0",
      "model_name": "DropdownModel",
      "state": {
       "_model_module_version": "1.0.0",
       "_options_labels": [
        "0.1",
        "0.2",
        "0.3"
       ],
       "_view_module_version": "1.0.0",
       "description": "Select run:",
       "index": 2,
       "layout": "IPY_MODEL_4f4a8afc467a4ae6afc610c8f48e3306",
       "style": "IPY_MODEL_4c8bbaa2e79a4121833bbb0f29517d6c"
      }
     },
     "0f4d1c3da1d44cafab21de52277ce867": {
      "model_module": "@jupyter-widgets/controls",
      "model_module_version": "1.0.0",
      "model_name": "DescriptionStyleModel",
      "state": {
       "_model_module_version": "1.0.0",
       "description_width": ""
      }
     },
     "107743c285324bbdb88ddede4d318a02": {
      "model_module": "@jupyter-widgets/controls",
      "model_module_version": "1.0.0",
      "model_name": "DropdownModel",
      "state": {
       "_model_module_version": "1.0.0",
       "_options_labels": [
        "sample_data"
       ],
       "_view_module_version": "1.0.0",
       "description": "Select issue to analyze:",
       "index": 0,
       "layout": "IPY_MODEL_977b546ae6b74f9ab297675c203b0194",
       "style": "IPY_MODEL_0ab57299fd0f43ada8a7a252e70a5edf"
      }
     },
     "124abcde0a444e8a9f518d82f8273c79": {
      "model_module": "@jupyter-widgets/base",
      "model_module_version": "1.0.0",
      "model_name": "LayoutModel",
      "state": {}
     },
     "15d1bad56b81403fba9ff137717ff7bf": {
      "model_module": "@jupyter-widgets/controls",
      "model_module_version": "1.0.0",
      "model_name": "DescriptionStyleModel",
      "state": {
       "_model_module_version": "1.0.0",
       "description_width": ""
      }
     },
     "1652d0fbd6f147c899fbbb1f00254606": {
      "model_module": "@jupyter-widgets/base",
      "model_module_version": "1.0.0",
      "model_name": "LayoutModel",
      "state": {}
     },
     "1aa61d142aa24d90bf8fd37252c037e5": {
      "model_module": "@jupyter-widgets/controls",
      "model_module_version": "1.0.0",
      "model_name": "DropdownModel",
      "state": {
       "_model_module_version": "1.0.0",
       "_view_module_version": "1.0.0",
       "description": "Select dataset:",
       "index": null,
       "layout": "IPY_MODEL_2dd1298dfdda465790c55b05dd55f832",
       "style": "IPY_MODEL_d57a7c688b01494590d03abcc98d16ad"
      }
     },
     "1d3c88c3f9144bf3902709f17343eecb": {
      "model_module": "@jupyter-widgets/base",
      "model_module_version": "1.0.0",
      "model_name": "LayoutModel",
      "state": {}
     },
     "1dd2992ac3644fddaa7f723bd87568ee": {
      "model_module": "@jupyter-widgets/base",
      "model_module_version": "1.0.0",
      "model_name": "LayoutModel",
      "state": {}
     },
     "21451bdbd1b14f2bba0ed14f279bc375": {
      "model_module": "@jupyter-widgets/controls",
      "model_module_version": "1.0.0",
      "model_name": "DropdownModel",
      "state": {
       "_model_module_version": "1.0.0",
       "_options_labels": [
        "0.1",
        "0.2",
        "0.3"
       ],
       "_view_module_version": "1.0.0",
       "description": "Select run:",
       "index": 0,
       "layout": "IPY_MODEL_a2d1aeed6e1b4a1fabc71e5a27ef872e",
       "style": "IPY_MODEL_3319572e841e4ef28805dc407495bc42"
      }
     },
     "21dd35190f0342e8a7681c6d9167b49e": {
      "model_module": "@jupyter-widgets/controls",
      "model_module_version": "1.0.0",
      "model_name": "DescriptionStyleModel",
      "state": {
       "_model_module_version": "1.0.0",
       "description_width": ""
      }
     },
     "249a851e18df4f3883bc5dee8b162f2b": {
      "model_module": "@jupyter-widgets/controls",
      "model_module_version": "1.0.0",
      "model_name": "DropdownModel",
      "state": {
       "_model_module_version": "1.0.0",
       "_options_labels": [
        "0.1",
        "0.2",
        "0.3"
       ],
       "_view_module_version": "1.0.0",
       "description": "Select run:",
       "index": 0,
       "layout": "IPY_MODEL_c2d364ec438944e4b4f64f39d8d999bf",
       "style": "IPY_MODEL_8de84a3800f84174876233ae13266698"
      }
     },
     "283758d2ac7f4717ad22331a664b6b43": {
      "model_module": "@jupyter-widgets/controls",
      "model_module_version": "1.0.0",
      "model_name": "DropdownModel",
      "state": {
       "_model_module_version": "1.0.0",
       "_options_labels": [
        "sample_data"
       ],
       "_view_module_version": "1.0.0",
       "description": "Select dataset:",
       "index": 0,
       "layout": "IPY_MODEL_0a2cc3cab12d48db8c1c17e93e60995c",
       "style": "IPY_MODEL_7b8633c702d6438ea3bb31515ce9620e"
      }
     },
     "29386762f0704e4daaf9e341557aa058": {
      "model_module": "@jupyter-widgets/controls",
      "model_module_version": "1.0.0",
      "model_name": "DescriptionStyleModel",
      "state": {
       "_model_module_version": "1.0.0",
       "description_width": ""
      }
     },
     "2bfb3a1234d441c88260fa3f26acdf84": {
      "model_module": "@jupyter-widgets/controls",
      "model_module_version": "1.0.0",
      "model_name": "DropdownModel",
      "state": {
       "_model_module_version": "1.0.0",
       "_options_labels": [
        "0.2",
        "0.1",
        "0.3"
       ],
       "_view_module_version": "1.0.0",
       "description": "Select run:",
       "index": 2,
       "layout": "IPY_MODEL_d9ea472045434d0597ae657cb774a867",
       "style": "IPY_MODEL_6701605bc1c84d299d629ebdd9b3dc30"
      }
     },
     "2dd1298dfdda465790c55b05dd55f832": {
      "model_module": "@jupyter-widgets/base",
      "model_module_version": "1.0.0",
      "model_name": "LayoutModel",
      "state": {}
     },
     "2f4c7e67fa3d4a7cb0cdc53c2a07951b": {
      "model_module": "@jupyter-widgets/controls",
      "model_module_version": "1.0.0",
      "model_name": "DescriptionStyleModel",
      "state": {
       "_model_module_version": "1.0.0",
       "description_width": ""
      }
     },
     "3319572e841e4ef28805dc407495bc42": {
      "model_module": "@jupyter-widgets/controls",
      "model_module_version": "1.0.0",
      "model_name": "DescriptionStyleModel",
      "state": {
       "_model_module_version": "1.0.0",
       "description_width": ""
      }
     },
     "333dd7d63a7e4de2a9bf29cdd18239a6": {
      "model_module": "@jupyter-widgets/base",
      "model_module_version": "1.0.0",
      "model_name": "LayoutModel",
      "state": {}
     },
     "342765ce373f4e959850528ca701255b": {
      "model_module": "@jupyter-widgets/base",
      "model_module_version": "1.0.0",
      "model_name": "LayoutModel",
      "state": {}
     },
     "35688b5062f949aeb61767c7e8c91237": {
      "model_module": "@jupyter-widgets/controls",
      "model_module_version": "1.0.0",
      "model_name": "DropdownModel",
      "state": {
       "_model_module_version": "1.0.0",
       "_options_labels": [
        "0.1",
        "0.2",
        "0.3"
       ],
       "_view_module_version": "1.0.0",
       "description": "Select run:",
       "index": 2,
       "layout": "IPY_MODEL_c1c41ba92ccb4a7aa070a18379bb8b54",
       "style": "IPY_MODEL_5b0b436c6848492eb819e24c4cc5b64d"
      }
     },
     "37cf316a4cce427aa41a056f4e05fc38": {
      "model_module": "@jupyter-widgets/base",
      "model_module_version": "1.0.0",
      "model_name": "LayoutModel",
      "state": {}
     },
     "3ae524dd45cd409096b3152405a24780": {
      "model_module": "@jupyter-widgets/base",
      "model_module_version": "1.0.0",
      "model_name": "LayoutModel",
      "state": {}
     },
     "3cea50c2e1e64b98918d63075e18e1cd": {
      "model_module": "@jupyter-widgets/controls",
      "model_module_version": "1.0.0",
      "model_name": "DropdownModel",
      "state": {
       "_model_module_version": "1.0.0",
       "_options_labels": [
        "sample_data"
       ],
       "_view_module_version": "1.0.0",
       "description": "Select dataset:",
       "index": 0,
       "layout": "IPY_MODEL_77db4041b206492582801e866a501856",
       "style": "IPY_MODEL_594fee376c094cee972f665d89416c1a"
      }
     },
     "3d50bc3e39fc434db6c260e86da08c41": {
      "model_module": "@jupyter-widgets/controls",
      "model_module_version": "1.0.0",
      "model_name": "DescriptionStyleModel",
      "state": {
       "_model_module_version": "1.0.0",
       "description_width": ""
      }
     },
     "442861bf08d341d4a7c693a347eb6d93": {
      "model_module": "@jupyter-widgets/controls",
      "model_module_version": "1.0.0",
      "model_name": "DescriptionStyleModel",
      "state": {
       "_model_module_version": "1.0.0",
       "description_width": ""
      }
     },
     "4c8bbaa2e79a4121833bbb0f29517d6c": {
      "model_module": "@jupyter-widgets/controls",
      "model_module_version": "1.0.0",
      "model_name": "DescriptionStyleModel",
      "state": {
       "_model_module_version": "1.0.0",
       "description_width": ""
      }
     },
     "4cc898a656e74bc5b5cbf73b0555ce05": {
      "model_module": "@jupyter-widgets/base",
      "model_module_version": "1.0.0",
      "model_name": "LayoutModel",
      "state": {}
     },
     "4ce859bdba3f490b99cad4defab030de": {
      "model_module": "@jupyter-widgets/base",
      "model_module_version": "1.0.0",
      "model_name": "LayoutModel",
      "state": {}
     },
     "4f4a8afc467a4ae6afc610c8f48e3306": {
      "model_module": "@jupyter-widgets/base",
      "model_module_version": "1.0.0",
      "model_name": "LayoutModel",
      "state": {}
     },
     "513adcb8dcfc4815958253d0dff162b8": {
      "model_module": "@jupyter-widgets/base",
      "model_module_version": "1.0.0",
      "model_name": "LayoutModel",
      "state": {}
     },
     "52cc08d324914e448f57254e109598db": {
      "model_module": "@jupyter-widgets/controls",
      "model_module_version": "1.0.0",
      "model_name": "DropdownModel",
      "state": {
       "_model_module_version": "1.0.0",
       "_options_labels": [
        "0.1",
        "0.2",
        "0.3"
       ],
       "_view_module_version": "1.0.0",
       "description": "Select run:",
       "index": 1,
       "layout": "IPY_MODEL_1652d0fbd6f147c899fbbb1f00254606",
       "style": "IPY_MODEL_75e12fee95044378926c075997e78fdc"
      }
     },
     "55e5ac3ffc044f14ba3b84c02cc8871b": {
      "model_module": "@jupyter-widgets/controls",
      "model_module_version": "1.0.0",
      "model_name": "DescriptionStyleModel",
      "state": {
       "_model_module_version": "1.0.0",
       "description_width": ""
      }
     },
     "56306b79c967455386522906ac691bfa": {
      "model_module": "@jupyter-widgets/base",
      "model_module_version": "1.0.0",
      "model_name": "LayoutModel",
      "state": {}
     },
     "594fee376c094cee972f665d89416c1a": {
      "model_module": "@jupyter-widgets/controls",
      "model_module_version": "1.0.0",
      "model_name": "DescriptionStyleModel",
      "state": {
       "_model_module_version": "1.0.0",
       "description_width": ""
      }
     },
     "5b0b436c6848492eb819e24c4cc5b64d": {
      "model_module": "@jupyter-widgets/controls",
      "model_module_version": "1.0.0",
      "model_name": "DescriptionStyleModel",
      "state": {
       "_model_module_version": "1.0.0",
       "description_width": ""
      }
     },
     "5d286befe1904019824ac36fa5eb7191": {
      "model_module": "@jupyter-widgets/controls",
      "model_module_version": "1.0.0",
      "model_name": "DescriptionStyleModel",
      "state": {
       "_model_module_version": "1.0.0",
       "description_width": ""
      }
     },
     "629802ad002446fc88180cc49a7ddde7": {
      "model_module": "@jupyter-widgets/controls",
      "model_module_version": "1.0.0",
      "model_name": "DescriptionStyleModel",
      "state": {
       "_model_module_version": "1.0.0",
       "description_width": ""
      }
     },
     "6701605bc1c84d299d629ebdd9b3dc30": {
      "model_module": "@jupyter-widgets/controls",
      "model_module_version": "1.0.0",
      "model_name": "DescriptionStyleModel",
      "state": {
       "_model_module_version": "1.0.0",
       "description_width": ""
      }
     },
     "6a7d975636b043feaac4d405b289f134": {
      "model_module": "@jupyter-widgets/base",
      "model_module_version": "1.0.0",
      "model_name": "LayoutModel",
      "state": {}
     },
     "6c49b7be01894973a27358371814cbed": {
      "model_module": "@jupyter-widgets/base",
      "model_module_version": "1.0.0",
      "model_name": "LayoutModel",
      "state": {}
     },
     "72ffc40ea2574b06967f298557a07e14": {
      "model_module": "@jupyter-widgets/controls",
      "model_module_version": "1.0.0",
      "model_name": "DropdownModel",
      "state": {
       "_model_module_version": "1.0.0",
       "_options_labels": [
        "sample_data"
       ],
       "_view_module_version": "1.0.0",
       "description": "Select dataset:",
       "index": 0,
       "layout": "IPY_MODEL_aad6c8e63d274c5d952eda64345e36ff",
       "style": "IPY_MODEL_a22458a6739d41deabea201d5a3f0cde"
      }
     },
     "7357ca54c03c43a8afce6f8964123f85": {
      "model_module": "@jupyter-widgets/controls",
      "model_module_version": "1.0.0",
      "model_name": "DropdownModel",
      "state": {
       "_model_module_version": "1.0.0",
       "_options_labels": [
        "sample_data"
       ],
       "_view_module_version": "1.0.0",
       "description": "Select run:",
       "index": 0,
       "layout": "IPY_MODEL_caf8ce746d3c45f8b3d5c9c6c49c3fa4",
       "style": "IPY_MODEL_2f4c7e67fa3d4a7cb0cdc53c2a07951b"
      }
     },
     "75e12fee95044378926c075997e78fdc": {
      "model_module": "@jupyter-widgets/controls",
      "model_module_version": "1.0.0",
      "model_name": "DescriptionStyleModel",
      "state": {
       "_model_module_version": "1.0.0",
       "description_width": ""
      }
     },
     "76547b317ae149b8bfdf53e5ad5aa059": {
      "model_module": "@jupyter-widgets/controls",
      "model_module_version": "1.0.0",
      "model_name": "DescriptionStyleModel",
      "state": {
       "_model_module_version": "1.0.0",
       "description_width": ""
      }
     },
     "77db4041b206492582801e866a501856": {
      "model_module": "@jupyter-widgets/base",
      "model_module_version": "1.0.0",
      "model_name": "LayoutModel",
      "state": {}
     },
     "796d5227473947b1afeca6db2fe8b877": {
      "model_module": "@jupyter-widgets/controls",
      "model_module_version": "1.0.0",
      "model_name": "DropdownModel",
      "state": {
       "_model_module_version": "1.0.0",
       "_options_labels": [
        "0.1",
        "0.2",
        "0.3"
       ],
       "_view_module_version": "1.0.0",
       "description": "Select run:",
       "index": 1,
       "layout": "IPY_MODEL_0ca6d24c7b6a4b6ea0edf957368b0663",
       "style": "IPY_MODEL_da91ab2b1eae4581aae8a76e09c47da8"
      }
     },
     "7ab7143893ed413ca5d3f8c49749a7aa": {
      "model_module": "@jupyter-widgets/controls",
      "model_module_version": "1.0.0",
      "model_name": "DescriptionStyleModel",
      "state": {
       "_model_module_version": "1.0.0",
       "description_width": ""
      }
     },
     "7b791c33d5a5452b90597099968bc3bc": {
      "model_module": "@jupyter-widgets/controls",
      "model_module_version": "1.0.0",
      "model_name": "DropdownModel",
      "state": {
       "_model_module_version": "1.0.0",
       "_options_labels": [
        "sample_data"
       ],
       "_view_module_version": "1.0.0",
       "description": "Select run:",
       "index": 0,
       "layout": "IPY_MODEL_56306b79c967455386522906ac691bfa",
       "style": "IPY_MODEL_29386762f0704e4daaf9e341557aa058"
      }
     },
     "7b8633c702d6438ea3bb31515ce9620e": {
      "model_module": "@jupyter-widgets/controls",
      "model_module_version": "1.0.0",
      "model_name": "DescriptionStyleModel",
      "state": {
       "_model_module_version": "1.0.0",
       "description_width": ""
      }
     },
     "7ba3834ca0e14f9eb7f518bc600aa58c": {
      "model_module": "@jupyter-widgets/controls",
      "model_module_version": "1.0.0",
      "model_name": "DescriptionStyleModel",
      "state": {
       "_model_module_version": "1.0.0",
       "description_width": ""
      }
     },
     "7c49f8a34fe643949df8140e618aa51b": {
      "model_module": "@jupyter-widgets/controls",
      "model_module_version": "1.0.0",
      "model_name": "DescriptionStyleModel",
      "state": {
       "_model_module_version": "1.0.0",
       "description_width": ""
      }
     },
     "805f57cae2174f208228db1d94e33dca": {
      "model_module": "@jupyter-widgets/controls",
      "model_module_version": "1.0.0",
      "model_name": "DropdownModel",
      "state": {
       "_model_module_version": "1.0.0",
       "_options_labels": [
        "0.1",
        "0.2",
        "0.3"
       ],
       "_view_module_version": "1.0.0",
       "description": "Select run:",
       "index": 1,
       "layout": "IPY_MODEL_4ce859bdba3f490b99cad4defab030de",
       "style": "IPY_MODEL_0f4d1c3da1d44cafab21de52277ce867"
      }
     },
     "834faaba9c1249faa5454399b126cf3d": {
      "model_module": "@jupyter-widgets/controls",
      "model_module_version": "1.0.0",
      "model_name": "DropdownModel",
      "state": {
       "_model_module_version": "1.0.0",
       "_options_labels": [
        "0.1",
        "0.2",
        "0.3"
       ],
       "_view_module_version": "1.0.0",
       "description": "Select run:",
       "index": 2,
       "layout": "IPY_MODEL_a3def36ee2514aafa0d99cc1f744228d",
       "style": "IPY_MODEL_88c0f88622b342abbe1588026500b6db"
      }
     },
     "86e74f59a2484ab0915657d1af126fcf": {
      "model_module": "@jupyter-widgets/controls",
      "model_module_version": "1.0.0",
      "model_name": "DescriptionStyleModel",
      "state": {
       "_model_module_version": "1.0.0",
       "description_width": ""
      }
     },
     "88c0f88622b342abbe1588026500b6db": {
      "model_module": "@jupyter-widgets/controls",
      "model_module_version": "1.0.0",
      "model_name": "DescriptionStyleModel",
      "state": {
       "_model_module_version": "1.0.0",
       "description_width": ""
      }
     },
     "89955f83fb72421191ed80cef44ff278": {
      "model_module": "@jupyter-widgets/controls",
      "model_module_version": "1.0.0",
      "model_name": "DescriptionStyleModel",
      "state": {
       "_model_module_version": "1.0.0",
       "description_width": ""
      }
     },
     "8de84a3800f84174876233ae13266698": {
      "model_module": "@jupyter-widgets/controls",
      "model_module_version": "1.0.0",
      "model_name": "DescriptionStyleModel",
      "state": {
       "_model_module_version": "1.0.0",
       "description_width": ""
      }
     },
     "8e50d8fe437249bfba86e4bfd13a9395": {
      "model_module": "@jupyter-widgets/base",
      "model_module_version": "1.0.0",
      "model_name": "LayoutModel",
      "state": {}
     },
     "8ec5952b2824482d94d6c3788e434aa3": {
      "model_module": "@jupyter-widgets/base",
      "model_module_version": "1.0.0",
      "model_name": "LayoutModel",
      "state": {}
     },
     "975bd430f60548bd9872d438743666b5": {
      "model_module": "@jupyter-widgets/controls",
      "model_module_version": "1.0.0",
      "model_name": "DescriptionStyleModel",
      "state": {
       "_model_module_version": "1.0.0",
       "description_width": ""
      }
     },
     "977b546ae6b74f9ab297675c203b0194": {
      "model_module": "@jupyter-widgets/base",
      "model_module_version": "1.0.0",
      "model_name": "LayoutModel",
      "state": {}
     },
     "9d5525406bad48b883d779bec7baaf58": {
      "model_module": "@jupyter-widgets/controls",
      "model_module_version": "1.0.0",
      "model_name": "DescriptionStyleModel",
      "state": {
       "_model_module_version": "1.0.0",
       "description_width": ""
      }
     },
     "a22458a6739d41deabea201d5a3f0cde": {
      "model_module": "@jupyter-widgets/controls",
      "model_module_version": "1.0.0",
      "model_name": "DescriptionStyleModel",
      "state": {
       "_model_module_version": "1.0.0",
       "description_width": ""
      }
     },
     "a2d1aeed6e1b4a1fabc71e5a27ef872e": {
      "model_module": "@jupyter-widgets/base",
      "model_module_version": "1.0.0",
      "model_name": "LayoutModel",
      "state": {}
     },
     "a3def36ee2514aafa0d99cc1f744228d": {
      "model_module": "@jupyter-widgets/base",
      "model_module_version": "1.0.0",
      "model_name": "LayoutModel",
      "state": {}
     },
     "a6f63f432cd546eda5d2f8a532fc6492": {
      "model_module": "@jupyter-widgets/base",
      "model_module_version": "1.0.0",
      "model_name": "LayoutModel",
      "state": {}
     },
     "aaa070ab3e4b43e3bb8ad5c819cac38c": {
      "model_module": "@jupyter-widgets/base",
      "model_module_version": "1.0.0",
      "model_name": "LayoutModel",
      "state": {}
     },
     "aad6c8e63d274c5d952eda64345e36ff": {
      "model_module": "@jupyter-widgets/base",
      "model_module_version": "1.0.0",
      "model_name": "LayoutModel",
      "state": {}
     },
     "adddc69584df4086a2587d64ad06c1ff": {
      "model_module": "@jupyter-widgets/controls",
      "model_module_version": "1.0.0",
      "model_name": "DropdownModel",
      "state": {
       "_model_module_version": "1.0.0",
       "_options_labels": [
        "0.1",
        "0.2",
        "0.3"
       ],
       "_view_module_version": "1.0.0",
       "description": "Select run:",
       "index": 0,
       "layout": "IPY_MODEL_afd75a2aae6b49dfaf20241a7b13a606",
       "style": "IPY_MODEL_975bd430f60548bd9872d438743666b5"
      }
     },
     "afd75a2aae6b49dfaf20241a7b13a606": {
      "model_module": "@jupyter-widgets/base",
      "model_module_version": "1.0.0",
      "model_name": "LayoutModel",
      "state": {}
     },
     "c0b13973daf844f5b929fb7d4b6b08af": {
      "model_module": "@jupyter-widgets/controls",
      "model_module_version": "1.0.0",
      "model_name": "DropdownModel",
      "state": {
       "_model_module_version": "1.0.0",
       "_options_labels": [
        "sample_data"
       ],
       "_view_module_version": "1.0.0",
       "description": "Select dataset:",
       "index": 0,
       "layout": "IPY_MODEL_8ec5952b2824482d94d6c3788e434aa3",
       "style": "IPY_MODEL_76547b317ae149b8bfdf53e5ad5aa059"
      }
     },
     "c10ae543a4d940d7bd8d35d1813aa21f": {
      "model_module": "@jupyter-widgets/controls",
      "model_module_version": "1.0.0",
      "model_name": "DropdownModel",
      "state": {
       "_model_module_version": "1.0.0",
       "_options_labels": [
        "0.1",
        "0.2",
        "0.3"
       ],
       "_view_module_version": "1.0.0",
       "description": "Select run:",
       "index": 1,
       "layout": "IPY_MODEL_333dd7d63a7e4de2a9bf29cdd18239a6",
       "style": "IPY_MODEL_7c49f8a34fe643949df8140e618aa51b"
      }
     },
     "c150219ec0114c3fbe4a6d30d490ee10": {
      "model_module": "@jupyter-widgets/controls",
      "model_module_version": "1.0.0",
      "model_name": "DescriptionStyleModel",
      "state": {
       "_model_module_version": "1.0.0",
       "description_width": ""
      }
     },
     "c1c41ba92ccb4a7aa070a18379bb8b54": {
      "model_module": "@jupyter-widgets/base",
      "model_module_version": "1.0.0",
      "model_name": "LayoutModel",
      "state": {}
     },
     "c2d364ec438944e4b4f64f39d8d999bf": {
      "model_module": "@jupyter-widgets/base",
      "model_module_version": "1.0.0",
      "model_name": "LayoutModel",
      "state": {}
     },
     "c54011c2975a4cf5930e0d02b3718167": {
      "model_module": "@jupyter-widgets/controls",
      "model_module_version": "1.0.0",
      "model_name": "DropdownModel",
      "state": {
       "_model_module_version": "1.0.0",
       "_options_labels": [
        "sample_data"
       ],
       "_view_module_version": "1.0.0",
       "description": "Select dataset:",
       "index": 0,
       "layout": "IPY_MODEL_4cc898a656e74bc5b5cbf73b0555ce05",
       "style": "IPY_MODEL_c57c4ff0e7234db594f9959c8bc33113"
      }
     },
     "c57c4ff0e7234db594f9959c8bc33113": {
      "model_module": "@jupyter-widgets/controls",
      "model_module_version": "1.0.0",
      "model_name": "DescriptionStyleModel",
      "state": {
       "_model_module_version": "1.0.0",
       "description_width": ""
      }
     },
     "c80a30d437d8454d8fdbe11978ac0778": {
      "model_module": "@jupyter-widgets/controls",
      "model_module_version": "1.0.0",
      "model_name": "DescriptionStyleModel",
      "state": {
       "_model_module_version": "1.0.0",
       "description_width": ""
      }
     },
     "caf8ce746d3c45f8b3d5c9c6c49c3fa4": {
      "model_module": "@jupyter-widgets/base",
      "model_module_version": "1.0.0",
      "model_name": "LayoutModel",
      "state": {}
     },
     "ce113d102ae64ec690faa61e1fbb5696": {
      "model_module": "@jupyter-widgets/controls",
      "model_module_version": "1.0.0",
      "model_name": "DropdownModel",
      "state": {
       "_model_module_version": "1.0.0",
       "_options_labels": [
        "0.1",
        "0.2",
        "0.3"
       ],
       "_view_module_version": "1.0.0",
       "description": "Select run:",
       "index": 0,
       "layout": "IPY_MODEL_37cf316a4cce427aa41a056f4e05fc38",
       "style": "IPY_MODEL_89955f83fb72421191ed80cef44ff278"
      }
     },
     "cff86e5af9ef4675af58115cfe8845ce": {
      "model_module": "@jupyter-widgets/controls",
      "model_module_version": "1.0.0",
      "model_name": "DropdownModel",
      "state": {
       "_model_module_version": "1.0.0",
       "_options_labels": [
        "sample_data"
       ],
       "_view_module_version": "1.0.0",
       "description": "Select dataset:",
       "index": 0,
       "layout": "IPY_MODEL_342765ce373f4e959850528ca701255b",
       "style": "IPY_MODEL_c80a30d437d8454d8fdbe11978ac0778"
      }
     },
     "d09eb1968e9e45aaa3b20dbb0183097f": {
      "model_module": "@jupyter-widgets/base",
      "model_module_version": "1.0.0",
      "model_name": "LayoutModel",
      "state": {}
     },
     "d266536d10534ef2bcb927630fa12c39": {
      "model_module": "@jupyter-widgets/controls",
      "model_module_version": "1.0.0",
      "model_name": "DropdownModel",
      "state": {
       "_model_module_version": "1.0.0",
       "_options_labels": [
        "0.1",
        "0.2",
        "0.3"
       ],
       "_view_module_version": "1.0.0",
       "description": "Select run:",
       "index": 1,
       "layout": "IPY_MODEL_3ae524dd45cd409096b3152405a24780",
       "style": "IPY_MODEL_21dd35190f0342e8a7681c6d9167b49e"
      }
     },
     "d57a7c688b01494590d03abcc98d16ad": {
      "model_module": "@jupyter-widgets/controls",
      "model_module_version": "1.0.0",
      "model_name": "DescriptionStyleModel",
      "state": {
       "_model_module_version": "1.0.0",
       "description_width": ""
      }
     },
     "d6107a85081b4318bfc64abbe7084f25": {
      "model_module": "@jupyter-widgets/controls",
      "model_module_version": "1.0.0",
      "model_name": "DropdownModel",
      "state": {
       "_model_module_version": "1.0.0",
       "_options_labels": [
        "0.1",
        "0.2",
        "0.3"
       ],
       "_view_module_version": "1.0.0",
       "description": "Select run:",
       "index": 0,
       "layout": "IPY_MODEL_6c49b7be01894973a27358371814cbed",
       "style": "IPY_MODEL_442861bf08d341d4a7c693a347eb6d93"
      }
     },
     "d9cbcd6c60cf41689900185fc710c942": {
      "model_module": "@jupyter-widgets/controls",
      "model_module_version": "1.0.0",
      "model_name": "DropdownModel",
      "state": {
       "_model_module_version": "1.0.0",
       "_options_labels": [
        "0.1",
        "0.2",
        "0.3"
       ],
       "_view_module_version": "1.0.0",
       "description": "Select run:",
       "index": 0,
       "layout": "IPY_MODEL_8e50d8fe437249bfba86e4bfd13a9395",
       "style": "IPY_MODEL_629802ad002446fc88180cc49a7ddde7"
      }
     },
     "d9ea472045434d0597ae657cb774a867": {
      "model_module": "@jupyter-widgets/base",
      "model_module_version": "1.0.0",
      "model_name": "LayoutModel",
      "state": {}
     },
     "da298dc1df5e4f37b66ee3ccc5207925": {
      "model_module": "@jupyter-widgets/base",
      "model_module_version": "1.0.0",
      "model_name": "LayoutModel",
      "state": {}
     },
     "da91ab2b1eae4581aae8a76e09c47da8": {
      "model_module": "@jupyter-widgets/controls",
      "model_module_version": "1.0.0",
      "model_name": "DescriptionStyleModel",
      "state": {
       "_model_module_version": "1.0.0",
       "description_width": ""
      }
     },
     "dbfc90f70f1e491e832029633a4136de": {
      "model_module": "@jupyter-widgets/controls",
      "model_module_version": "1.0.0",
      "model_name": "DropdownModel",
      "state": {
       "_model_module_version": "1.0.0",
       "_options_labels": [
        "0.1",
        "0.2",
        "0.3"
       ],
       "_view_module_version": "1.0.0",
       "description": "Select run:",
       "index": 1,
       "layout": "IPY_MODEL_1d3c88c3f9144bf3902709f17343eecb",
       "style": "IPY_MODEL_c150219ec0114c3fbe4a6d30d490ee10"
      }
     },
     "e0cf1711ca744fdb875198ea9d362c7b": {
      "model_module": "@jupyter-widgets/controls",
      "model_module_version": "1.0.0",
      "model_name": "DropdownModel",
      "state": {
       "_model_module_version": "1.0.0",
       "_options_labels": [
        "0.1",
        "0.2",
        "0.3"
       ],
       "_view_module_version": "1.0.0",
       "description": "Select run:",
       "index": 0,
       "layout": "IPY_MODEL_a6f63f432cd546eda5d2f8a532fc6492",
       "style": "IPY_MODEL_0106c8e19d714070add39ce8c6d73b83"
      }
     },
     "e14db258bc534592a1629d4c4bddb325": {
      "model_module": "@jupyter-widgets/controls",
      "model_module_version": "1.0.0",
      "model_name": "DropdownModel",
      "state": {
       "_model_module_version": "1.0.0",
       "_options_labels": [
        "sample_data"
       ],
       "_view_module_version": "1.0.0",
       "description": "Select dataset:",
       "index": 0,
       "layout": "IPY_MODEL_d09eb1968e9e45aaa3b20dbb0183097f",
       "style": "IPY_MODEL_9d5525406bad48b883d779bec7baaf58"
      }
     },
     "ef2576fc06f24749a39578baa357e6d9": {
      "model_module": "@jupyter-widgets/base",
      "model_module_version": "1.0.0",
      "model_name": "LayoutModel",
      "state": {}
     },
     "f2ed9ad9b8c54dc0b0adfc949583770a": {
      "model_module": "@jupyter-widgets/controls",
      "model_module_version": "1.0.0",
      "model_name": "DropdownModel",
      "state": {
       "_model_module_version": "1.0.0",
       "_options_labels": [
        "sample_data"
       ],
       "_view_module_version": "1.0.0",
       "description": "Select dataset:",
       "index": 0,
       "layout": "IPY_MODEL_1dd2992ac3644fddaa7f723bd87568ee",
       "style": "IPY_MODEL_7ba3834ca0e14f9eb7f518bc600aa58c"
      }
     },
     "f4068b4164324ed7810c09e498fb2474": {
      "model_module": "@jupyter-widgets/controls",
      "model_module_version": "1.0.0",
      "model_name": "DropdownModel",
      "state": {
       "_model_module_version": "1.0.0",
       "_options_labels": [
        "0.1",
        "0.2",
        "0.3"
       ],
       "_view_module_version": "1.0.0",
       "description": "Select run:",
       "index": 2,
       "layout": "IPY_MODEL_ef2576fc06f24749a39578baa357e6d9",
       "style": "IPY_MODEL_5d286befe1904019824ac36fa5eb7191"
      }
     },
     "fb0bbbc5ed6e4082b82a72a3d8a26978": {
      "model_module": "@jupyter-widgets/controls",
      "model_module_version": "1.0.0",
      "model_name": "DropdownModel",
      "state": {
       "_model_module_version": "1.0.0",
       "_options_labels": [
        "sample_data"
       ],
       "_view_module_version": "1.0.0",
       "description": "Select dataset:",
       "index": 0,
       "layout": "IPY_MODEL_513adcb8dcfc4815958253d0dff162b8",
       "style": "IPY_MODEL_15d1bad56b81403fba9ff137717ff7bf"
      }
     },
     "fe51d25424bb45f49e633a859be38020": {
      "model_module": "@jupyter-widgets/controls",
      "model_module_version": "1.0.0",
      "model_name": "DropdownModel",
      "state": {
       "_model_module_version": "1.0.0",
       "_options_labels": [
        "sample_data"
       ],
       "_view_module_version": "1.0.0",
       "description": "Select dataset:",
       "index": 0,
       "layout": "IPY_MODEL_6a7d975636b043feaac4d405b289f134",
       "style": "IPY_MODEL_86e74f59a2484ab0915657d1af126fcf"
      }
     }
    },
    "version_major": 2,
    "version_minor": 0
   }
  }
 },
 "nbformat": 4,
 "nbformat_minor": 2
}
